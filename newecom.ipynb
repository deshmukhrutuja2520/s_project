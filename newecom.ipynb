{
 "cells": [
  {
   "cell_type": "code",
   "execution_count": 6,
   "id": "f956e2f6-7d86-4692-82a1-9d7d1388bed5",
   "metadata": {},
   "outputs": [
    {
     "name": "stdout",
     "output_type": "stream",
     "text": [
      "Requirement already satisfied: pyspark in /usr/lib/spark/python (3.3.2)\n",
      "Requirement already satisfied: py4j==0.10.9.5 in /opt/conda/miniconda3/lib/python3.10/site-packages (from pyspark) (0.10.9.5)\n",
      "\u001b[33mWARNING: Running pip as the 'root' user can result in broken permissions and conflicting behaviour with the system package manager. It is recommended to use a virtual environment instead: https://pip.pypa.io/warnings/venv\u001b[0m\u001b[33m\n",
      "\u001b[0mNote: you may need to restart the kernel to use updated packages.\n"
     ]
    }
   ],
   "source": [
    "pip install pyspark"
   ]
  },
  {
   "cell_type": "code",
   "execution_count": 7,
   "id": "a20febce-96e7-48bb-aa1f-4e9e225aeb1e",
   "metadata": {},
   "outputs": [],
   "source": [
    "from pyspark.sql import *\n",
    "from pyspark.sql.functions import *"
   ]
  },
  {
   "cell_type": "code",
   "execution_count": 8,
   "id": "b5869a5d-2b21-480f-9f95-a7768a090c79",
   "metadata": {},
   "outputs": [],
   "source": [
    "spark = SparkSession.builder.master('local').appName('app').getOrCreate()"
   ]
  },
  {
   "cell_type": "code",
   "execution_count": 11,
   "id": "5c35ccdc-7148-42c2-b793-3cd35548ffff",
   "metadata": {},
   "outputs": [],
   "source": [
    "read_file = spark.read.csv('/user/rutuja/newdataset.csv',header=True)"
   ]
  },
  {
   "cell_type": "code",
   "execution_count": 26,
   "id": "7fa96bea-bafc-46e8-904b-abaac46fd807",
   "metadata": {},
   "outputs": [],
   "source": [
    "df = read_file.limit(1000)"
   ]
  },
  {
   "cell_type": "code",
   "execution_count": 27,
   "id": "d7672a78-653e-4391-8a7d-b316ada6eacf",
   "metadata": {},
   "outputs": [
    {
     "name": "stdout",
     "output_type": "stream",
     "text": [
      "+-------------+---------------+-------+--------------+--------------------+----------+---------+--------+----------+-----+------------+--------------------+--------------------+---------+\n",
      "|fullVisitorId|channelGrouping|   time|       country|                city|timeOnSite|pageviews|    date|   visitId| type|productPrice|   v2ProductCategory|           v2Product|pageTitle|\n",
      "+-------------+---------------+-------+--------------+--------------------+----------+---------+--------+----------+-----+------------+--------------------+--------------------+---------+\n",
      "|     5.21E+18|         Direct|  63131| United States|            New York|       117|        9|20160822|1471898479| PAGE|    16990000|Women's YouTube S...|Home/Shop by Bran...|  YouTube|\n",
      "|     1.36E+18|         Direct|  15249|        Taiwan|not available in ...|        73|        4|20160909|1473433346| PAGE|    16990000|Women's YouTube S...|Home/Shop by Bran...|  YouTube|\n",
      "|     2.60E+18|         Social| 262937|       Czechia|not available in ...|       325|       12|20160828|1472389533| PAGE|    16990000|Women's YouTube S...|Home/Shop by Bran...|  YouTube|\n",
      "|     1.25E+18| Organic Search|1727433|        Mexico|not available in ...|      3252|       20|20160916|1474047024| PAGE|    16990000|Women's YouTube S...|Home/Shop by Bran...|  YouTube|\n",
      "|     7.74E+18| Organic Search|1112098|     Venezuela|           Maracaibo|     10076|      351|20160825|1472172400| PAGE|    16990000|Women's YouTube S...|Home/Shop by Bran...|  YouTube|\n",
      "|     9.51E+18| Organic Search| 788334| United States|           Ann Arbor|       874|       20|20160824|1472056557| PAGE|    16990000|Women's YouTube S...|Home/Shop by Bran...|  YouTube|\n",
      "|     4.29E+17| Organic Search|   7040| United States|            New York|       645|       20|20160829|1472478374| PAGE|    16990000|Women's YouTube S...|Home/Shop by Bran...|  YouTube|\n",
      "|     7.55E+18|         Direct|  15256|         Japan|not available in ...|        15|        2|20160907|1473255670| PAGE|    16990000|Women's YouTube S...|Home/Shop by Bran...|  YouTube|\n",
      "|     1.03E+18|         Social|  52536|        Taiwan|not available in ...|       202|        6|20160929|1475155332| PAGE|    16990000|Women's YouTube S...|Home/Shop by Bran...|  YouTube|\n",
      "|     5.03E+18|         Social|  46734|     (not set)|           (not set)|        84|        3|20161004|1475593638| PAGE|    18990000|YouTube Men's Sho...|Home/Shop by Bran...|  YouTube|\n",
      "|     4.97E+18| Organic Search| 837974| United States|         Los Angeles|      1908|       66|20160905|1473120978| PAGE|    18990000|YouTube Men's Sho...|Home/Shop by Bran...|  YouTube|\n",
      "|     7.13E+18| Organic Search|  28867|     Australia|            Brisbane|       386|       14|20160915|1473977891| PAGE|    18990000|YouTube Men's Sho...|Home/Shop by Bran...|  YouTube|\n",
      "|     6.45E+18|         Social|  17517|United Kingdom|not available in ...|        18|        2|20160917|1474110566| PAGE|    18990000|YouTube Men's Sho...|Home/Shop by Bran...|  YouTube|\n",
      "|     7.93E+18| Organic Search|  16722| United States|not available in ...|        97|       14|20161006|1475802784|EVENT|    18990000|YouTube Men's Sho...|Home/Shop by Bran...|  YouTube|\n",
      "|     4.82E+18|         Social| 114170|         India|not available in ...|       138|        4|20160909|1473415123| PAGE|    18990000|YouTube Men's Sho...|Home/Shop by Bran...|  YouTube|\n",
      "|     6.60E+18| Organic Search|      0|   New Zealand|not available in ...|       283|        6|20160905|1473059081| PAGE|    18990000|YouTube Men's Sho...|Home/Shop by Bran...|  YouTube|\n",
      "|     5.40E+18|       Referral|  73001| United States|not available in ...|      1003|       18|20160907|1473261575| PAGE|    18990000|YouTube Men's Sho...|Home/Shop by Bran...|  YouTube|\n",
      "|     3.81E+17| Organic Search|1210026|        Canada|not available in ...|      1372|       25|20160905|1473110825| PAGE|    18990000|YouTube Men's Sho...|Home/Shop by Bran...|  YouTube|\n",
      "|     6.45E+18| Organic Search| 106138|United Kingdom|not available in ...|       123|        6|20160827|1472337998| PAGE|    18990000|YouTube Men's Sho...|Home/Shop by Bran...|  YouTube|\n",
      "|     6.02E+18| Organic Search|      0| United States|not available in ...|         0|        1|20161001|1475382910| PAGE|    18990000|YouTube Men's Sho...|Home/Shop by Bran...|  YouTube|\n",
      "+-------------+---------------+-------+--------------+--------------------+----------+---------+--------+----------+-----+------------+--------------------+--------------------+---------+\n",
      "only showing top 20 rows\n",
      "\n"
     ]
    }
   ],
   "source": [
    "df.show()"
   ]
  },
  {
   "cell_type": "code",
   "execution_count": 29,
   "id": "c60749b3-f808-43ea-9d0c-d983f9623564",
   "metadata": {},
   "outputs": [
    {
     "name": "stdout",
     "output_type": "stream",
     "text": [
      "+--------+\n",
      "|    date|\n",
      "+--------+\n",
      "|20160828|\n",
      "|20160828|\n",
      "|20160828|\n",
      "|20160828|\n",
      "|20160828|\n",
      "|20160828|\n",
      "|20160828|\n",
      "|20160828|\n",
      "|20160828|\n",
      "|20160828|\n",
      "|20160828|\n",
      "|20160828|\n",
      "+--------+\n",
      "\n"
     ]
    }
   ],
   "source": [
    "df1 = df.filter(df['date']=='20160828').select('date')\n",
    "df1.show()"
   ]
  },
  {
   "cell_type": "code",
   "execution_count": 31,
   "id": "a844fac6-dd66-415e-96eb-657151abfa9a",
   "metadata": {},
   "outputs": [
    {
     "name": "stdout",
     "output_type": "stream",
     "text": [
      "+--------+----------------+\n",
      "|    date|totalCountOfDate|\n",
      "+--------+----------------+\n",
      "|20160822|              22|\n",
      "|20160909|              29|\n",
      "|20160828|              12|\n",
      "|20160916|              21|\n",
      "|20160825|              22|\n",
      "|20160824|              17|\n",
      "|20160829|              23|\n",
      "|20160907|              14|\n",
      "|20160929|              20|\n",
      "|20161004|              17|\n",
      "|20160905|              18|\n",
      "|20160915|              26|\n",
      "|20160917|              17|\n",
      "|20161006|              14|\n",
      "|20160827|              15|\n",
      "|20161001|               6|\n",
      "|20160928|              26|\n",
      "|20160913|              17|\n",
      "|20160925|              15|\n",
      "|20160823|              17|\n",
      "+--------+----------------+\n",
      "only showing top 20 rows\n",
      "\n"
     ]
    }
   ],
   "source": [
    "df2 = df.groupBy(df['date']).agg(count('date').alias('totalCountOfDate'))\n",
    "df2.show()"
   ]
  },
  {
   "cell_type": "code",
   "execution_count": null,
   "id": "912b5eae-6017-48a7-b04c-298165b1bfe4",
   "metadata": {},
   "outputs": [],
   "source": []
  }
 ],
 "metadata": {
  "kernelspec": {
   "display_name": "PySpark",
   "language": "python",
   "name": "pyspark"
  },
  "language_info": {
   "codemirror_mode": {
    "name": "ipython",
    "version": 3
   },
   "file_extension": ".py",
   "mimetype": "text/x-python",
   "name": "python",
   "nbconvert_exporter": "python",
   "pygments_lexer": "ipython3",
   "version": "3.10.8"
  }
 },
 "nbformat": 4,
 "nbformat_minor": 5
}
