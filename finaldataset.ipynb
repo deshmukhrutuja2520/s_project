{
 "cells": [
  {
   "cell_type": "code",
   "execution_count": 1,
   "id": "32680ae7-e550-4780-8af5-2ce3bc1c8b08",
   "metadata": {},
   "outputs": [
    {
     "name": "stdout",
     "output_type": "stream",
     "text": [
      "Requirement already satisfied: pyspark in /usr/lib/spark/python (3.3.2)\n",
      "Requirement already satisfied: py4j==0.10.9.5 in /opt/conda/miniconda3/lib/python3.10/site-packages (from pyspark) (0.10.9.5)\n",
      "\u001b[33mWARNING: Running pip as the 'root' user can result in broken permissions and conflicting behaviour with the system package manager. It is recommended to use a virtual environment instead: https://pip.pypa.io/warnings/venv\u001b[0m\u001b[33m\n",
      "\u001b[0mNote: you may need to restart the kernel to use updated packages.\n"
     ]
    }
   ],
   "source": [
    "!pip install pyspark"
   ]
  },
  {
   "cell_type": "code",
   "execution_count": 7,
   "id": "bdccb6fb-8127-403d-9087-81d6a0ae5477",
   "metadata": {},
   "outputs": [],
   "source": [
    "from pyspark.sql import *\n",
    "from pyspark.sql.functions import *\n",
    "from pyspark.sql.types import *"
   ]
  },
  {
   "cell_type": "code",
   "execution_count": 8,
   "id": "d368fc66-09d4-45a5-a9cf-b2cd87c0a64a",
   "metadata": {},
   "outputs": [],
   "source": [
    "spark = SparkSession.builder.appName('app').getOrCreate()"
   ]
  },
  {
   "cell_type": "code",
   "execution_count": 15,
   "id": "9a1f1868-b017-40c9-a6f3-d7046ab8ed1f",
   "metadata": {},
   "outputs": [],
   "source": [
    "schemadata= StructType([\n",
    "    StructField('fullVisitors', StringType(), True),\n",
    "    StructField('Channel',StringType(), True),\n",
    "    StructField('time', IntegerType(), True),\n",
    "    StructField('country', StringType(), True),\n",
    "    StructField('city', StringType(), True),\n",
    "    StructField('timeOnsite', IntegerType(), True),\n",
    "    StructField('pageviews', IntegerType(), True),\n",
    "    StructField('date', IntegerType(), True), \n",
    "    StructField('visitId', StringType(), True),\n",
    "    StructField('type', StringType(), True),\n",
    "    StructField('productprice', IntegerType(), True),\n",
    "    StructField('Ptype', StringType(), True),\n",
    "    StructField('path', StringType(), True),\n",
    "    StructField('channelpath', StringType(), True)\n",
    "])"
   ]
  },
  {
   "cell_type": "code",
   "execution_count": 16,
   "id": "2d181863-83b7-4d95-bb0f-17417d6cbfdf",
   "metadata": {},
   "outputs": [],
   "source": [
    "readdf = spark.read.csv('/user/rutuja/newdataset.csv',header=True,schema=schemadata)"
   ]
  },
  {
   "cell_type": "code",
   "execution_count": 17,
   "id": "171175f4-1d73-48ee-a687-aeafa9e5f35d",
   "metadata": {},
   "outputs": [
    {
     "name": "stdout",
     "output_type": "stream",
     "text": [
      "+------------+--------------+-------+-------------+--------------------+----------+---------+--------+----------+----+------------+--------------------+--------------------+-----------+\n",
      "|fullVisitors|       Channel|   time|      country|                city|timeOnsite|pageviews|    date|   visitId|type|productprice|               Ptype|                path|channelpath|\n",
      "+------------+--------------+-------+-------------+--------------------+----------+---------+--------+----------+----+------------+--------------------+--------------------+-----------+\n",
      "|    5.21E+18|        Direct|  63131|United States|            New York|       117|        9|20160822|1471898479|PAGE|    16990000|Women's YouTube S...|Home/Shop by Bran...|    YouTube|\n",
      "|    1.36E+18|        Direct|  15249|       Taiwan|not available in ...|        73|        4|20160909|1473433346|PAGE|    16990000|Women's YouTube S...|Home/Shop by Bran...|    YouTube|\n",
      "|    2.60E+18|        Social| 262937|      Czechia|not available in ...|       325|       12|20160828|1472389533|PAGE|    16990000|Women's YouTube S...|Home/Shop by Bran...|    YouTube|\n",
      "|    1.25E+18|Organic Search|1727433|       Mexico|not available in ...|      3252|       20|20160916|1474047024|PAGE|    16990000|Women's YouTube S...|Home/Shop by Bran...|    YouTube|\n",
      "|    7.74E+18|Organic Search|1112098|    Venezuela|           Maracaibo|     10076|      351|20160825|1472172400|PAGE|    16990000|Women's YouTube S...|Home/Shop by Bran...|    YouTube|\n",
      "+------------+--------------+-------+-------------+--------------------+----------+---------+--------+----------+----+------------+--------------------+--------------------+-----------+\n",
      "only showing top 5 rows\n",
      "\n"
     ]
    }
   ],
   "source": [
    "readdf.show(5)"
   ]
  },
  {
   "cell_type": "code",
   "execution_count": 19,
   "id": "cc6399be-6a30-4408-9ac7-addf666e39f3",
   "metadata": {},
   "outputs": [
    {
     "name": "stderr",
     "output_type": "stream",
     "text": [
      "[Stage 3:>                                                          (0 + 2) / 2]\r"
     ]
    },
    {
     "name": "stdout",
     "output_type": "stream",
     "text": [
      "+----------+\n",
      "|   visitId|\n",
      "+----------+\n",
      "|1474105417|\n",
      "|1470462204|\n",
      "|1470306858|\n",
      "|1474514917|\n",
      "|1475135812|\n",
      "|1473381817|\n",
      "|1472689434|\n",
      "|1472081459|\n",
      "|1474145520|\n",
      "|1473700200|\n",
      "|1472515557|\n",
      "|1473526497|\n",
      "|1471645205|\n",
      "|1473130343|\n",
      "|1474331733|\n",
      "|1472851981|\n",
      "|1474761378|\n",
      "|1473359456|\n",
      "|1475002118|\n",
      "|1475623750|\n",
      "+----------+\n",
      "only showing top 20 rows\n",
      "\n"
     ]
    },
    {
     "name": "stderr",
     "output_type": "stream",
     "text": [
      "                                                                                \r"
     ]
    }
   ],
   "source": [
    "#find unique product visits for the websites.\n",
    "df = readdf.select('visitId').distinct().show()"
   ]
  },
  {
   "cell_type": "code",
   "execution_count": 22,
   "id": "36651169-7fd8-4e43-b0c8-332870a83b32",
   "metadata": {},
   "outputs": [
    {
     "name": "stderr",
     "output_type": "stream",
     "text": [
      "[Stage 9:>                                                          (0 + 2) / 2]\r"
     ]
    },
    {
     "name": "stdout",
     "output_type": "stream",
     "text": [
      "+----------+-----------------+\n",
      "|   visitId|totalVisitorCount|\n",
      "+----------+-----------------+\n",
      "|1474478361|                1|\n",
      "|1472863152|                1|\n",
      "|1475641475|                1|\n",
      "|1471896933|                1|\n",
      "|1474628633|                1|\n",
      "|1471035678|                1|\n",
      "|1474044900|                1|\n",
      "|1473955064|                1|\n",
      "|1472846618|                1|\n",
      "|1472589070|                1|\n",
      "|1471757989|                1|\n",
      "|1473786988|                1|\n",
      "|1474472309|                1|\n",
      "|1472640156|                1|\n",
      "|1474000312|                1|\n",
      "|1474543801|                1|\n",
      "|1472831481|                1|\n",
      "|1473821299|                1|\n",
      "|1472362062|                1|\n",
      "|1474277993|                1|\n",
      "+----------+-----------------+\n",
      "only showing top 20 rows\n",
      "\n"
     ]
    },
    {
     "name": "stderr",
     "output_type": "stream",
     "text": [
      "                                                                                \r"
     ]
    }
   ],
   "source": [
    "#total number of unique visitors\n",
    "df1 = readdf.groupBy('visitId').agg(countDistinct('visitId').alias('totalVisitorCount')).show()"
   ]
  },
  {
   "cell_type": "code",
   "execution_count": 24,
   "id": "9a79eb24-60e2-4b16-8d6b-1d36d412affd",
   "metadata": {},
   "outputs": [
    {
     "name": "stdout",
     "output_type": "stream",
     "text": [
      "+--------------+-------+\n",
      "|       Channel|visitor|\n",
      "+--------------+-------+\n",
      "|       Display|    325|\n",
      "|    Affiliates|    715|\n",
      "|        Social|   1231|\n",
      "|        Direct|   1876|\n",
      "|      Referral|   2010|\n",
      "|   Paid Search|    888|\n",
      "|Organic Search|   2183|\n",
      "+--------------+-------+\n",
      "\n"
     ]
    }
   ],
   "source": [
    "# Mapping unique visitor per reference channel\n",
    "df3 = readdf.groupBy('Channel').agg(countDistinct('fullVisitors').alias('visitor')).show()"
   ]
  },
  {
   "cell_type": "code",
   "execution_count": 26,
   "id": "ad34f648-cfea-4e83-b633-be79d6243787",
   "metadata": {},
   "outputs": [
    {
     "name": "stderr",
     "output_type": "stream",
     "text": [
      "[Stage 24:>                                                         (0 + 2) / 2]\r"
     ]
    },
    {
     "name": "stdout",
     "output_type": "stream",
     "text": [
      "+------------+--------------+------+-------------+--------------------+----------+---------+--------+----------+-----+------------+--------------------+-------------------+-----------+\n",
      "|fullVisitors|       Channel|  time|      country|                city|timeOnsite|pageviews|    date|   visitId| type|productprice|               Ptype|               path|channelpath|\n",
      "+------------+--------------+------+-------------+--------------------+----------+---------+--------+----------+-----+------------+--------------------+-------------------+-----------+\n",
      "|    2.33E+17|Organic Search|     0|    Singapore|           (not set)|         0|        1|20160804|1470356123| PAGE|   250000000| Gift Card - $250.00|   Home/Gift Cards/| Gift Cards|\n",
      "|    8.91E+17|Organic Search|320634|       Canada|             Toronto|      2515|      112|20160811|1470950588| PAGE|   250000000| Gift Card - $250.00|   Home/Gift Cards/| Gift Cards|\n",
      "|    8.71E+18|Organic Search| 72942|United States|not available in ...|       288|       13|20160831|1472661447| PAGE|   250000000| Gift Card - $250.00|   Home/Gift Cards/| Gift Cards|\n",
      "|    8.63E+18|        Direct|272874|        India|not available in ...|       344|        5|20160921|1474483342| PAGE|   250000000| Gift Card - $250.00|   Home/Gift Cards/| Gift Cards|\n",
      "|    3.07E+18|Organic Search| 56338|United States|not available in ...|       221|        4|20160806|1470526326| PAGE|   250000000| Gift Card - $250.00|   Home/Gift Cards/| Gift Cards|\n",
      "|    9.54E+17|        Social|887352|      Albania|not available in ...|       889|       15|20160831|1472655065| PAGE|   250000000| Gift Card - $250.00|   Home/Gift Cards/| Gift Cards|\n",
      "|    6.04E+18|        Social|477520|United States|not available in ...|       678|       32|20160928|1475050932| PAGE|   250000000| Gift Card - $250.00|   Home/Gift Cards/| Gift Cards|\n",
      "|    1.60E+18|        Social| 78941|United States|not available in ...|       111|        3|20160921|1474442503|EVENT|   250000000| Gift Card - $250.00|   Home/Gift Cards/| Gift Cards|\n",
      "|    7.09E+18|        Direct|     0|United States|not available in ...|        62|        2|20160909|1473467093| PAGE|   250000000| Gift Card - $250.00|   Home/Gift Cards/| Gift Cards|\n",
      "|    1.86E+18|Organic Search| 70946|United States|not available in ...|       108|       12|20160807|1470635602| PAGE|   250000000| Gift Card - $250.00|   Home/Gift Cards/| Gift Cards|\n",
      "|    4.07E+18|        Social|325349|      Ireland|              Dublin|       325|        3|20160919|1474270867| PAGE|   250000000| Gift Card - $250.00|   Home/Gift Cards/| Gift Cards|\n",
      "|    1.79E+17|        Direct| 21840|United States|            San Jose|        34|        4|20170408|1491699693| PAGE|   249000000|Nest® Learning Th...|Home/Nest/Nest-USA/|   Nest-USA|\n",
      "|    7.54E+17|Organic Search|766856|        Spain|              Bilbao|      1606|        9|20170331|1490975561| PAGE|   249000000|Nest® Learning Th...|Home/Nest/Nest-USA/|   Nest-USA|\n",
      "|    2.36E+17|        Direct| 17082|United States|       Mountain View|        19|        3|20170310|1489194413|EVENT|   249000000|Nest® Learning Th...|Home/Nest/Nest-USA/|   Nest-USA|\n",
      "|    3.87E+16|      Referral| 14393|United States|       Mountain View|        44|        4|20170414|1492225767| PAGE|   249000000|Nest® Learning Th...|Home/Nest/Nest-USA/|   Nest-USA|\n",
      "|    8.47E+18|        Direct| 49324|United States|              Austin|        59|        6|20170324|1490372416|EVENT|   249000000|Nest® Learning Th...|Home/Nest/Nest-USA/|   Nest-USA|\n",
      "|    3.60E+17|      Referral| 57000|United States|       San Francisco|       696|       14|20170321|1490119390| PAGE|   249000000|Nest® Learning Th...|Home/Nest/Nest-USA/|   Nest-USA|\n",
      "|    5.68E+18|Organic Search|344015|       Canada|not available in ...|       350|        6|20170313|1489425926| PAGE|   249000000|Nest® Learning Th...|Home/Nest/Nest-USA/|   Nest-USA|\n",
      "|    1.66E+17|Organic Search|183135|        China|              Ningbo|       193|       14|20170416|1492370668| PAGE|   249000000|Nest® Learning Th...|Home/Nest/Nest-USA/|   Nest-USA|\n",
      "|    4.66E+18|        Direct|126628|United States|            Milpitas|       570|       19|20170329|1490853366| PAGE|   249000000|Nest® Learning Th...|Home/Nest/Nest-USA/|   Nest-USA|\n",
      "+------------+--------------+------+-------------+--------------------+----------+---------+--------+----------+-----+------------+--------------------+-------------------+-----------+\n",
      "only showing top 20 rows\n",
      "\n"
     ]
    },
    {
     "name": "stderr",
     "output_type": "stream",
     "text": [
      "                                                                                \r"
     ]
    }
   ],
   "source": [
    "# get top products from the provided dataset\n",
    "df4 = readdf.orderBy('productprice',ascending=False).show()"
   ]
  },
  {
   "cell_type": "code",
   "execution_count": null,
   "id": "32bbea83-43f8-436b-975f-459326007ca4",
   "metadata": {},
   "outputs": [],
   "source": []
  }
 ],
 "metadata": {
  "kernelspec": {
   "display_name": "PySpark",
   "language": "python",
   "name": "pyspark"
  },
  "language_info": {
   "codemirror_mode": {
    "name": "ipython",
    "version": 3
   },
   "file_extension": ".py",
   "mimetype": "text/x-python",
   "name": "python",
   "nbconvert_exporter": "python",
   "pygments_lexer": "ipython3",
   "version": "3.10.8"
  }
 },
 "nbformat": 4,
 "nbformat_minor": 5
}
